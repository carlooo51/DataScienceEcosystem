{
 "cells": [
  {
   "cell_type": "markdown",
   "id": "885d29bb",
   "metadata": {},
   "source": [
    "# Data Science Tools and Ecosystem"
   ]
  },
  {
   "cell_type": "markdown",
   "id": "ea09b2fe",
   "metadata": {},
   "source": [
    "In this notebook, Data Science Tools and Ecosystem are summarized.\n"
   ]
  },
  {
   "cell_type": "markdown",
   "id": "bae58d38",
   "metadata": {},
   "source": [
    "Some of the popular languages that Data Scientists use are:\n",
    "\n",
    "<ol>\n",
    "<li>Python</li>\n",
    "<li>R</li>\n",
    "<li>SQL</li>\n",
    "</ol>"
   ]
  },
  {
   "cell_type": "markdown",
   "id": "beb8d040",
   "metadata": {},
   "source": [
    "Some of the commonly used libraries used by Data Scientists include:\n",
    "\n",
    "<ol>\n",
    "<li>Matplotlib</li>\n",
    "<li>Scikit-learn</li>\n",
    "<li>TensorFlow</li>\n",
    "</ol>"
   ]
  },
  {
   "cell_type": "markdown",
   "id": "151a5c20",
   "metadata": {},
   "source": [
    "# Data Science Tools"
   ]
  },
  {
   "cell_type": "markdown",
   "id": "cf197101",
   "metadata": {},
   "source": [
    "<table>\n",
    "    <tr>\n",
    "    <td>Jupyter Notebook</td>\n",
    "    </tr>\n",
    "    <tr>\n",
    "    <td>VS Code</td>\n",
    "    </tr>\n",
    "     <tr>\n",
    "    <td>RStudio</td>\n",
    "    </tr>\n",
    "</table>"
   ]
  },
  {
   "cell_type": "markdown",
   "id": "e0f3ac2b",
   "metadata": {},
   "source": [
    "### Below are a few examples of evaluating arithmetic expressions in Python."
   ]
  },
  {
   "cell_type": "code",
   "execution_count": 11,
   "id": "1c747672",
   "metadata": {},
   "outputs": [],
   "source": [
    "#This a simple arithmetic expression to mutiply then add integers"
   ]
  },
  {
   "cell_type": "code",
   "execution_count": 12,
   "id": "90050439",
   "metadata": {},
   "outputs": [],
   "source": [
    "result = (3*4)+5 "
   ]
  },
  {
   "cell_type": "code",
   "execution_count": 13,
   "id": "9afc0289",
   "metadata": {},
   "outputs": [
    {
     "data": {
      "text/plain": [
       "17"
      ]
     },
     "execution_count": 13,
     "metadata": {},
     "output_type": "execute_result"
    }
   ],
   "source": [
    "result"
   ]
  },
  {
   "cell_type": "code",
   "execution_count": null,
   "id": "dcb5e2d2",
   "metadata": {},
   "outputs": [],
   "source": [
    "#This will convert 200 minutes to hours by diving by 60."
   ]
  },
  {
   "cell_type": "code",
   "execution_count": 14,
   "id": "57b317f4",
   "metadata": {},
   "outputs": [],
   "source": [
    "hours = 200/60"
   ]
  },
  {
   "cell_type": "code",
   "execution_count": 15,
   "id": "9d2190f6",
   "metadata": {},
   "outputs": [
    {
     "data": {
      "text/plain": [
       "3.3333333333333335"
      ]
     },
     "execution_count": 15,
     "metadata": {},
     "output_type": "execute_result"
    }
   ],
   "source": [
    "hours"
   ]
  },
  {
   "cell_type": "markdown",
   "id": "9911d7d9",
   "metadata": {},
   "source": [
    "<b>Objectives:</b>\n",
    "\n",
    "<ul>\n",
    "    <li>Overview of Data Science Tools and Ecosystem</li>\n",
    "     <li>Conversion of Units in Python</li>\n",
    "     <li>Evaluate Arithmetic Expressions in Python</li>\n",
    "   \n",
    "</ul>"
   ]
  },
  {
   "cell_type": "markdown",
   "id": "0b8fccf6",
   "metadata": {},
   "source": [
    "## Author"
   ]
  },
  {
   "cell_type": "markdown",
   "id": "50647b68",
   "metadata": {},
   "source": [
    "John Carlo del Rosario\n"
   ]
  }
 ],
 "metadata": {
  "kernelspec": {
   "display_name": "Python 3 (ipykernel)",
   "language": "python",
   "name": "python3"
  },
  "language_info": {
   "codemirror_mode": {
    "name": "ipython",
    "version": 3
   },
   "file_extension": ".py",
   "mimetype": "text/x-python",
   "name": "python",
   "nbconvert_exporter": "python",
   "pygments_lexer": "ipython3",
   "version": "3.11.4"
  }
 },
 "nbformat": 4,
 "nbformat_minor": 5
}
